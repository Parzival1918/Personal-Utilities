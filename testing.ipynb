{
 "cells": [
  {
   "cell_type": "code",
   "execution_count": 10,
   "metadata": {},
   "outputs": [
    {
     "name": "stdout",
     "output_type": "stream",
     "text": [
      "test_files/dlpoly4/FIELD\n",
      "['Valinomycin Molecule with 146 SPC Waters', 'UNITS kcal', '', 'MOLECULES    2', 'Valinomycin', 'NUMMOLS 1', 'ATOMS 168', '    O   16.0000     -0.4160         1', '    OS  16.0000     -0.4550         1', '    \"   \"           \"               \"', '    \"   \"           \"               \"', '    HC  1.0080      0.0580          1', '    C   12.0110     0.4770          1', 'BONDS 78', 'harm    31  19 674.000  1.44900', 'harm    33  31 620.000  1.52600', '\"   \"   \"   \"   \"', '\"   \"   \"   \"   \"', 'harm    168 19 980.000 1.33500', 'harm    168 162 634.000 1.52200', 'CONSTRAINTS 90', '    20  19  1.000017', '    22  21  1.000032', '    \"   \"   \"', '    \"   \"   \"', '    166 164 1.000087', '    167 164 0.999968', 'ANGLES 312', 'harm    43  2   44  200.00  116.4', 'harm    69  5   70  200.00  116.4', '\"   \"   \"   \"   \"   \"', '\"   \"   \"   \"   \"   \"', 'harm    18 168 162  160.00  120.40', 'harm    19 168 162 140.00 116.60', 'DIHEDRALS 371', 'harm    1  43  2   44  2.3000  180.0', 'harm    31 43  2   44  2.3000  180.0', '\"   \"   \"   \"   \"   \"   \"', '\"   \"   \"   \"   \"   \"   \"', 'cos     149 17 161 16  10.500  180.0', 'cos     162 19 168 18  10.500  180.0', 'FINISH', 'SPC Water', 'NUMMOLS 146', 'ATOMS 3', '    OW  16.0000     -0.8200', '    HW   1.0080     0.4100', '    HW   1.0080     0.4100', 'CONSTRAINTS 3', '    1   2   1.000000', '    1   3   1.000000', '    2   3   1.633000', 'FINISH', 'VDW     45', 'C   C   lj  0.12000    3.39900', 'C   CT  lj  0.08600    3.39900', '\"   \"   \"   \"   \"', '\"   \"   \"   \"   \"', '\"   \"   \"   \"   \"', 'OW  OS  lj  0.15536    3.16600', 'OS  OS  lj  0.21040    3.16600', 'CLOSE']\n"
     ]
    }
   ],
   "source": [
    "from pu_pjr.dlpoly4 import utils\n",
    "import importlib\n",
    "importlib.reload(utils)\n",
    "\n",
    "utils.check_field_file('test_files/dlpoly4/FIELD')"
   ]
  }
 ],
 "metadata": {
  "kernelspec": {
   "display_name": "personal-utilities-3.11",
   "language": "python",
   "name": "python3"
  },
  "language_info": {
   "codemirror_mode": {
    "name": "ipython",
    "version": 3
   },
   "file_extension": ".py",
   "mimetype": "text/x-python",
   "name": "python",
   "nbconvert_exporter": "python",
   "pygments_lexer": "ipython3",
   "version": "3.11.5"
  },
  "orig_nbformat": 4
 },
 "nbformat": 4,
 "nbformat_minor": 2
}
